{
 "cells": [
  {
   "cell_type": "markdown",
   "metadata": {},
   "source": [
    "<center>\n",
    "    <img src=\"https://cf-courses-data.s3.us.cloud-object-storage.appdomain.cloud/IBMDeveloperSkillsNetwork-DS0105EN-SkillsNetwork/labs/Module2/images/SN_web_lightmode.png\" width=\"300\" alt=\"cognitiveclass.ai logo\">\n",
    "</center>\n"
   ]
  },
  {
   "cell_type": "markdown",
   "metadata": {},
   "source": [
    "#### Add your code below following the instructions given in the course\n"
   ]
  },
  {
   "cell_type": "raw",
   "metadata": {},
   "source": [
    "# Exercise 2 - Create a markdown cell with the title of the notebook. (1 pt)"
   ]
  },
  {
   "cell_type": "markdown",
   "metadata": {},
   "source": [
    "# final project"
   ]
  },
  {
   "cell_type": "raw",
   "metadata": {},
   "source": [
    "Exercise 3 - Create a markdown cell for an introduction. (1 pt)"
   ]
  },
  {
   "cell_type": "markdown",
   "metadata": {},
   "source": [
    "### Introduction"
   ]
  },
  {
   "cell_type": "code",
   "execution_count": null,
   "metadata": {},
   "outputs": [],
   "source": [
    "# Exercise 4 - Create a markdown cell to list data science languages. (3 pts)"
   ]
  },
  {
   "cell_type": "markdown",
   "metadata": {},
   "source": [
    "#### Data Science Languages\n",
    "\n",
    "Languages for Datascience\n",
    "\n",
    "- Python\n",
    "- R\n",
    "- SQL\n",
    "- Julia\n",
    "- Scala\n",
    "- Java\n",
    "- MATLAB\n"
   ]
  },
  {
   "cell_type": "code",
   "execution_count": null,
   "metadata": {},
   "outputs": [],
   "source": [
    "# Exercise 5 - Create a markdown cell to list data science libraries. "
   ]
  },
  {
   "cell_type": "markdown",
   "metadata": {},
   "source": [
    "### Data Science Libraries\n",
    "\n",
    "Here are some popular libraries used in Data Science:\n",
    "\n",
    "- **Pandas**: Data manipulation and analysis.\n",
    "- **NumPy**: Numerical computing and array handling.\n",
    "- **Matplotlib**: Data visualization.\n",
    "- **Seaborn**: Statistical data visualization based on Matplotlib.\n",
    "- **Scikit-learn**: Machine learning algorithms and tools.\n",
    "- **TensorFlow**: Deep learning and neural networks.\n",
    "- **Statsmodels**: Statistical models and tests.\n",
    "- **SciPy**: Scientific computing and optimization.\n",
    "- **Plotly**: Interactive data visualization.\n"
   ]
  },
  {
   "cell_type": "code",
   "execution_count": null,
   "metadata": {},
   "outputs": [],
   "source": [
    "# Exercise 6 - Create a markdown cell with a table of Data Science tools"
   ]
  },
  {
   "cell_type": "markdown",
   "metadata": {},
   "source": [
    "# Data Science Tools\n",
    "\n",
    "Here is a table of popular Data Science tools:\n",
    "\n",
    "| Tool               | Description                                        |\n",
    "|--------------------|----------------------------------------------------|\n",
    "| **Python**         | General-purpose programming language used for data analysis, machine learning, and scientific computing. |\n",
    "| **R**              | Statistical computing and data visualization language. |\n",
    "| **SQL**            | Structured Query Language for managing and querying relational databases. |\n",
    "| **Jupyter Notebooks** | Web-based interactive development environment for data science workflows. |\n",
    "| **Watson studio** | IBM's cloud-based platform for data scientists, application developers, and subject matter experts to collaborate and build AI-powered applications. |"
   ]
  },
  {
   "cell_type": "code",
   "execution_count": null,
   "metadata": {},
   "outputs": [],
   "source": [
    "# Exercise 7 - Create a markdown cell introducing arithmetic expression examples. "
   ]
  },
  {
   "cell_type": "markdown",
   "metadata": {},
   "source": [
    "##### Arithmetic Expression Examples\n",
    "\n",
    "Here are some basic examples of arithmetic expressions:\n",
    "\n",
    "- **Addition**:  \n",
    "  5 + 3 = 8\n",
    "\n",
    " - **Subtraction**:  \n",
    "  10 - 4 = 6"
   ]
  },
  {
   "cell_type": "code",
   "execution_count": null,
   "metadata": {},
   "outputs": [],
   "source": [
    "# Exercise 8 - Create a code cell to multiply and add numbers. "
   ]
  },
  {
   "cell_type": "code",
   "execution_count": 12,
   "metadata": {},
   "outputs": [
    {
     "name": "stdout",
     "output_type": "stream",
     "text": [
      "9\n",
      "20\n"
     ]
    }
   ],
   "source": [
    "num1 = 5\n",
    "num2 = 4\n",
    "\n",
    "add = num1+ num2\n",
    "multiply = num1*num2\n",
    "print(add)\n",
    "print(multiply)"
   ]
  },
  {
   "cell_type": "code",
   "execution_count": null,
   "metadata": {},
   "outputs": [],
   "source": [
    "#Exercise 9 - Create a code cell to convert minutes to hours. (2 pts)"
   ]
  },
  {
   "cell_type": "code",
   "execution_count": 20,
   "metadata": {},
   "outputs": [
    {
     "name": "stdout",
     "output_type": "stream",
     "text": [
      "120 minutes in hours is 2.0 h\n"
     ]
    }
   ],
   "source": [
    "conver = 60\n",
    "minutes = 120\n",
    "hours = minutes/conver\n",
    "print(f\"{minutes} minutes in hours is {hours} h\")"
   ]
  },
  {
   "cell_type": "code",
   "execution_count": null,
   "metadata": {},
   "outputs": [],
   "source": [
    "#Exercise 10 -Insert a markdown cell to list Objectives. (3 pts)"
   ]
  },
  {
   "cell_type": "markdown",
   "metadata": {},
   "source": [
    "### Objetivos\n",
    "\n",
    "Los principales objetivos de este ejercicio son:\n",
    "\n",
    "- Entender las operaciones aritméticas básicas en programación.\n",
    "- Aprender cómo realizar conversiones de unidades, como convertir minutos a horas.\n",
    "- Desarrollar habilidades para escribir código en Python para operaciones matemáticas simples.\n",
    "- Familiarizarse con la sintaxis de markdown para documentación.\n"
   ]
  },
  {
   "cell_type": "code",
   "execution_count": 23,
   "metadata": {},
   "outputs": [],
   "source": [
    "# Exercise 11 - Create a markdown cell to indicate the Author’s name. (2 pts)"
   ]
  },
  {
   "cell_type": "markdown",
   "metadata": {},
   "source": [
    "# Autor\n",
    "\n",
    "\n",
    "**Xavier Bravo**\n"
   ]
  }
 ],
 "metadata": {
  "kernelspec": {
   "display_name": "Python 3 (ipykernel)",
   "language": "python",
   "name": "python3"
  },
  "language_info": {
   "codemirror_mode": {
    "name": "ipython",
    "version": 3
   },
   "file_extension": ".py",
   "mimetype": "text/x-python",
   "name": "python",
   "nbconvert_exporter": "python",
   "pygments_lexer": "ipython3",
   "version": "3.11.9"
  }
 },
 "nbformat": 4,
 "nbformat_minor": 4
}
